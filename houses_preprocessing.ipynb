{
 "cells": [
  {
   "cell_type": "markdown",
   "metadata": {},
   "source": [
    "# Data Preprocessing"
   ]
  },
  {
   "cell_type": "code",
   "execution_count": 1,
   "metadata": {},
   "outputs": [],
   "source": [
    "import warnings\n",
    "import pandas as pd\n",
    "import numpy as np\n",
    "import matplotlib.pyplot as plt\n",
    "import seaborn as sns\n",
    "\n",
    "from scipy.stats import norm"
   ]
  },
  {
   "cell_type": "code",
   "execution_count": 2,
   "metadata": {},
   "outputs": [],
   "source": [
    "def set_dotenv():\n",
    "    import os\n",
    "    from dotenv import load_dotenv\n",
    "\n",
    "    load_dotenv(dotenv_path='variables.env')\n",
    "\n",
    "    kaggle_username = os.getenv(\"KAGGLE_USERNAME\")\n",
    "    kaggle_key = os.getenv(\"KAGGLE_KEY\")\n",
    "\n",
    "    os.environ[\"KAGGLE_USERNAME\"] = kaggle_username\n",
    "    os.environ[\"KAGGLE_KEY\"] = kaggle_key\n",
    "\n",
    "def kaggle_download(dataset, output_path='./raw_data/'):\n",
    "    set_dotenv()\n",
    "\n",
    "    import kaggle\n",
    "    import zipfile\n",
    "\n",
    "    kaggle.api.competition_download_files('house-prices-advanced-regression-techniques', path=output_path)\n",
    "\n",
    "    with zipfile.ZipFile(f'{output_path}house-prices-advanced-regression-techniques.zip', 'r') as zip_ref:\n",
    "        zip_ref.extractall(output_path)\n",
    "\n",
    "def data_target(df, target):\n",
    "    X = df[list(set(df.columns) - set(target))].drop(columns=[target])\n",
    "    y = df[target]\n",
    "\n",
    "    return X, y\n",
    "\n",
    "def EDA_feat(col, sample=None, size=(24,6)):\n",
    "    \n",
    "    if sample is not None:\n",
    "        if sample < 1:\n",
    "            col = col.sample(int(sample*len(col)))\n",
    "        elif sample > 1:\n",
    "            col = col.sample(int(sample))\n",
    "        else:\n",
    "            warnings.warn(f'''Wrong input provided, either pass a fraction such as sample = fraction * df, \n",
    "                          either pass the exact number of rows taking in the sample''')\n",
    "            \n",
    "    \n",
    "    plt.subplots(1,3, figsize=size)\n",
    "    plt.subplot(1,3,1)\n",
    "    sns.boxplot(col, width=0.2, orient='h')\n",
    "    plt.ylabel(f'{col.name}')\n",
    "\n",
    "\n",
    "    plt.subplot(1,3,2)\n",
    "    sns.histplot(col, stat='density')\n",
    "    plt.xlabel(f'{col.name}')\n",
    "\n",
    "    plt.subplot(1,3,3)\n",
    "    sns.kdeplot(col, label=col.name)\n",
    "    mean, std_dev = np.mean(col), np.std(col)\n",
    "    x = np.linspace(mean - 4*std_dev, mean + 4*std_dev, 1000)\n",
    "    pdf = norm.pdf(x, mean, std_dev)\n",
    "    sns.lineplot(x=x, y=pdf, color='b', alpha=0.2, label='Gaussian Distribution')\n",
    "    plt.axvline(mean - 3*std_dev, color='r', alpha=0.2)\n",
    "    plt.axvline(mean + 3*std_dev, color='r', alpha=0.2)\n",
    "    plt.text(mean + 3*std_dev + 0.5, round(col.value_counts(sort=True).max()/len(col),2)/2, \"3 $\\\\sigma$\", rotation=90, verticalalignment='center')\n",
    "    plt.text(mean - 3*std_dev - 1, round(col.value_counts(sort=True).max()/len(col),2)/2, \"-3 $\\\\sigma$\", rotation=90, verticalalignment='center')\n",
    "\n",
    "    plt.show()\n",
    "    plt.close()\n"
   ]
  },
  {
   "cell_type": "code",
   "execution_count": 3,
   "metadata": {},
   "outputs": [],
   "source": [
    "raw_df = pd.read_csv('./raw_data/train.csv') # Local\n",
    "# df = pd.read_csv('./data/train.csv') # Google collab\n",
    "\n",
    "raw_df = raw_df.drop(columns=['Id'])"
   ]
  },
  {
   "cell_type": "code",
   "execution_count": 4,
   "metadata": {},
   "outputs": [
    {
     "data": {
      "text/html": [
       "<div>\n",
       "<style scoped>\n",
       "    .dataframe tbody tr th:only-of-type {\n",
       "        vertical-align: middle;\n",
       "    }\n",
       "\n",
       "    .dataframe tbody tr th {\n",
       "        vertical-align: top;\n",
       "    }\n",
       "\n",
       "    .dataframe thead th {\n",
       "        text-align: right;\n",
       "    }\n",
       "</style>\n",
       "<table border=\"1\" class=\"dataframe\">\n",
       "  <thead>\n",
       "    <tr style=\"text-align: right;\">\n",
       "      <th></th>\n",
       "      <th>MSSubClass</th>\n",
       "      <th>MSZoning</th>\n",
       "      <th>LotFrontage</th>\n",
       "      <th>LotArea</th>\n",
       "      <th>Street</th>\n",
       "      <th>Alley</th>\n",
       "      <th>LotShape</th>\n",
       "      <th>LandContour</th>\n",
       "      <th>Utilities</th>\n",
       "      <th>LotConfig</th>\n",
       "      <th>...</th>\n",
       "      <th>PoolArea</th>\n",
       "      <th>PoolQC</th>\n",
       "      <th>Fence</th>\n",
       "      <th>MiscFeature</th>\n",
       "      <th>MiscVal</th>\n",
       "      <th>MoSold</th>\n",
       "      <th>YrSold</th>\n",
       "      <th>SaleType</th>\n",
       "      <th>SaleCondition</th>\n",
       "      <th>SalePrice</th>\n",
       "    </tr>\n",
       "  </thead>\n",
       "  <tbody>\n",
       "    <tr>\n",
       "      <th>0</th>\n",
       "      <td>60</td>\n",
       "      <td>RL</td>\n",
       "      <td>65.0</td>\n",
       "      <td>8450</td>\n",
       "      <td>Pave</td>\n",
       "      <td>NaN</td>\n",
       "      <td>Reg</td>\n",
       "      <td>Lvl</td>\n",
       "      <td>AllPub</td>\n",
       "      <td>Inside</td>\n",
       "      <td>...</td>\n",
       "      <td>0</td>\n",
       "      <td>NaN</td>\n",
       "      <td>NaN</td>\n",
       "      <td>NaN</td>\n",
       "      <td>0</td>\n",
       "      <td>2</td>\n",
       "      <td>2008</td>\n",
       "      <td>WD</td>\n",
       "      <td>Normal</td>\n",
       "      <td>208500</td>\n",
       "    </tr>\n",
       "    <tr>\n",
       "      <th>1</th>\n",
       "      <td>20</td>\n",
       "      <td>RL</td>\n",
       "      <td>80.0</td>\n",
       "      <td>9600</td>\n",
       "      <td>Pave</td>\n",
       "      <td>NaN</td>\n",
       "      <td>Reg</td>\n",
       "      <td>Lvl</td>\n",
       "      <td>AllPub</td>\n",
       "      <td>FR2</td>\n",
       "      <td>...</td>\n",
       "      <td>0</td>\n",
       "      <td>NaN</td>\n",
       "      <td>NaN</td>\n",
       "      <td>NaN</td>\n",
       "      <td>0</td>\n",
       "      <td>5</td>\n",
       "      <td>2007</td>\n",
       "      <td>WD</td>\n",
       "      <td>Normal</td>\n",
       "      <td>181500</td>\n",
       "    </tr>\n",
       "    <tr>\n",
       "      <th>2</th>\n",
       "      <td>60</td>\n",
       "      <td>RL</td>\n",
       "      <td>68.0</td>\n",
       "      <td>11250</td>\n",
       "      <td>Pave</td>\n",
       "      <td>NaN</td>\n",
       "      <td>IR1</td>\n",
       "      <td>Lvl</td>\n",
       "      <td>AllPub</td>\n",
       "      <td>Inside</td>\n",
       "      <td>...</td>\n",
       "      <td>0</td>\n",
       "      <td>NaN</td>\n",
       "      <td>NaN</td>\n",
       "      <td>NaN</td>\n",
       "      <td>0</td>\n",
       "      <td>9</td>\n",
       "      <td>2008</td>\n",
       "      <td>WD</td>\n",
       "      <td>Normal</td>\n",
       "      <td>223500</td>\n",
       "    </tr>\n",
       "    <tr>\n",
       "      <th>3</th>\n",
       "      <td>70</td>\n",
       "      <td>RL</td>\n",
       "      <td>60.0</td>\n",
       "      <td>9550</td>\n",
       "      <td>Pave</td>\n",
       "      <td>NaN</td>\n",
       "      <td>IR1</td>\n",
       "      <td>Lvl</td>\n",
       "      <td>AllPub</td>\n",
       "      <td>Corner</td>\n",
       "      <td>...</td>\n",
       "      <td>0</td>\n",
       "      <td>NaN</td>\n",
       "      <td>NaN</td>\n",
       "      <td>NaN</td>\n",
       "      <td>0</td>\n",
       "      <td>2</td>\n",
       "      <td>2006</td>\n",
       "      <td>WD</td>\n",
       "      <td>Abnorml</td>\n",
       "      <td>140000</td>\n",
       "    </tr>\n",
       "    <tr>\n",
       "      <th>4</th>\n",
       "      <td>60</td>\n",
       "      <td>RL</td>\n",
       "      <td>84.0</td>\n",
       "      <td>14260</td>\n",
       "      <td>Pave</td>\n",
       "      <td>NaN</td>\n",
       "      <td>IR1</td>\n",
       "      <td>Lvl</td>\n",
       "      <td>AllPub</td>\n",
       "      <td>FR2</td>\n",
       "      <td>...</td>\n",
       "      <td>0</td>\n",
       "      <td>NaN</td>\n",
       "      <td>NaN</td>\n",
       "      <td>NaN</td>\n",
       "      <td>0</td>\n",
       "      <td>12</td>\n",
       "      <td>2008</td>\n",
       "      <td>WD</td>\n",
       "      <td>Normal</td>\n",
       "      <td>250000</td>\n",
       "    </tr>\n",
       "  </tbody>\n",
       "</table>\n",
       "<p>5 rows × 80 columns</p>\n",
       "</div>"
      ],
      "text/plain": [
       "   MSSubClass MSZoning  LotFrontage  LotArea Street Alley LotShape  \\\n",
       "0          60       RL         65.0     8450   Pave   NaN      Reg   \n",
       "1          20       RL         80.0     9600   Pave   NaN      Reg   \n",
       "2          60       RL         68.0    11250   Pave   NaN      IR1   \n",
       "3          70       RL         60.0     9550   Pave   NaN      IR1   \n",
       "4          60       RL         84.0    14260   Pave   NaN      IR1   \n",
       "\n",
       "  LandContour Utilities LotConfig  ... PoolArea PoolQC Fence MiscFeature  \\\n",
       "0         Lvl    AllPub    Inside  ...        0    NaN   NaN         NaN   \n",
       "1         Lvl    AllPub       FR2  ...        0    NaN   NaN         NaN   \n",
       "2         Lvl    AllPub    Inside  ...        0    NaN   NaN         NaN   \n",
       "3         Lvl    AllPub    Corner  ...        0    NaN   NaN         NaN   \n",
       "4         Lvl    AllPub       FR2  ...        0    NaN   NaN         NaN   \n",
       "\n",
       "  MiscVal MoSold  YrSold  SaleType  SaleCondition  SalePrice  \n",
       "0       0      2    2008        WD         Normal     208500  \n",
       "1       0      5    2007        WD         Normal     181500  \n",
       "2       0      9    2008        WD         Normal     223500  \n",
       "3       0      2    2006        WD        Abnorml     140000  \n",
       "4       0     12    2008        WD         Normal     250000  \n",
       "\n",
       "[5 rows x 80 columns]"
      ]
     },
     "execution_count": 4,
     "metadata": {},
     "output_type": "execute_result"
    }
   ],
   "source": [
    "raw_df.head()"
   ]
  },
  {
   "cell_type": "markdown",
   "metadata": {
    "vscode": {
     "languageId": "plaintext"
    }
   },
   "source": [
    "## Duplicates"
   ]
  },
  {
   "cell_type": "code",
   "execution_count": 5,
   "metadata": {},
   "outputs": [
    {
     "data": {
      "text/plain": [
       "np.False_"
      ]
     },
     "execution_count": 5,
     "metadata": {},
     "output_type": "execute_result"
    }
   ],
   "source": [
    "clean_df = raw_df.copy()\n",
    "clean_df.duplicated().any()"
   ]
  },
  {
   "cell_type": "markdown",
   "metadata": {},
   "source": [
    "## Imputation"
   ]
  },
  {
   "cell_type": "markdown",
   "metadata": {},
   "source": [
    "According to the data description file: **MSSubClass** is a categorical class"
   ]
  },
  {
   "cell_type": "code",
   "execution_count": 6,
   "metadata": {},
   "outputs": [],
   "source": [
    "def count_nulls(df, printing=True, how='absolute'):\n",
    "    null_counts = df.isnull().sum()\n",
    "    columns_with_nulls = null_counts[null_counts != 0]\n",
    "\n",
    "    if not columns_with_nulls.empty:\n",
    "        if printing == True & how=='absolute':\n",
    "            print(f'The following features contain NaN values:\\n')\n",
    "            print(columns_with_nulls.to_string(header=False), '\\n')\n",
    "        return list(columns_with_nulls.index)\n",
    "    \n",
    "\n",
    "    "
   ]
  },
  {
   "cell_type": "code",
   "execution_count": 13,
   "metadata": {},
   "outputs": [
    {
     "data": {
      "text/html": [
       "<div>\n",
       "<style scoped>\n",
       "    .dataframe tbody tr th:only-of-type {\n",
       "        vertical-align: middle;\n",
       "    }\n",
       "\n",
       "    .dataframe tbody tr th {\n",
       "        vertical-align: top;\n",
       "    }\n",
       "\n",
       "    .dataframe thead th {\n",
       "        text-align: right;\n",
       "    }\n",
       "</style>\n",
       "<table border=\"1\" class=\"dataframe\">\n",
       "  <thead>\n",
       "    <tr style=\"text-align: right;\">\n",
       "      <th></th>\n",
       "      <th>missing_values</th>\n",
       "      <th>percentage_missing</th>\n",
       "    </tr>\n",
       "  </thead>\n",
       "  <tbody>\n",
       "    <tr>\n",
       "      <th>LotFrontage</th>\n",
       "      <td>259</td>\n",
       "      <td>17.74</td>\n",
       "    </tr>\n",
       "    <tr>\n",
       "      <th>Alley</th>\n",
       "      <td>1369</td>\n",
       "      <td>93.77</td>\n",
       "    </tr>\n",
       "    <tr>\n",
       "      <th>MasVnrType</th>\n",
       "      <td>872</td>\n",
       "      <td>59.73</td>\n",
       "    </tr>\n",
       "    <tr>\n",
       "      <th>MasVnrArea</th>\n",
       "      <td>8</td>\n",
       "      <td>0.55</td>\n",
       "    </tr>\n",
       "    <tr>\n",
       "      <th>BsmtQual</th>\n",
       "      <td>37</td>\n",
       "      <td>2.53</td>\n",
       "    </tr>\n",
       "    <tr>\n",
       "      <th>BsmtCond</th>\n",
       "      <td>37</td>\n",
       "      <td>2.53</td>\n",
       "    </tr>\n",
       "    <tr>\n",
       "      <th>BsmtExposure</th>\n",
       "      <td>38</td>\n",
       "      <td>2.60</td>\n",
       "    </tr>\n",
       "    <tr>\n",
       "      <th>BsmtFinType1</th>\n",
       "      <td>37</td>\n",
       "      <td>2.53</td>\n",
       "    </tr>\n",
       "    <tr>\n",
       "      <th>BsmtFinType2</th>\n",
       "      <td>38</td>\n",
       "      <td>2.60</td>\n",
       "    </tr>\n",
       "    <tr>\n",
       "      <th>Electrical</th>\n",
       "      <td>1</td>\n",
       "      <td>0.07</td>\n",
       "    </tr>\n",
       "    <tr>\n",
       "      <th>FireplaceQu</th>\n",
       "      <td>690</td>\n",
       "      <td>47.26</td>\n",
       "    </tr>\n",
       "    <tr>\n",
       "      <th>GarageType</th>\n",
       "      <td>81</td>\n",
       "      <td>5.55</td>\n",
       "    </tr>\n",
       "    <tr>\n",
       "      <th>GarageYrBlt</th>\n",
       "      <td>81</td>\n",
       "      <td>5.55</td>\n",
       "    </tr>\n",
       "    <tr>\n",
       "      <th>GarageFinish</th>\n",
       "      <td>81</td>\n",
       "      <td>5.55</td>\n",
       "    </tr>\n",
       "    <tr>\n",
       "      <th>GarageQual</th>\n",
       "      <td>81</td>\n",
       "      <td>5.55</td>\n",
       "    </tr>\n",
       "    <tr>\n",
       "      <th>GarageCond</th>\n",
       "      <td>81</td>\n",
       "      <td>5.55</td>\n",
       "    </tr>\n",
       "    <tr>\n",
       "      <th>PoolQC</th>\n",
       "      <td>1453</td>\n",
       "      <td>99.52</td>\n",
       "    </tr>\n",
       "    <tr>\n",
       "      <th>Fence</th>\n",
       "      <td>1179</td>\n",
       "      <td>80.75</td>\n",
       "    </tr>\n",
       "    <tr>\n",
       "      <th>MiscFeature</th>\n",
       "      <td>1406</td>\n",
       "      <td>96.30</td>\n",
       "    </tr>\n",
       "  </tbody>\n",
       "</table>\n",
       "</div>"
      ],
      "text/plain": [
       "              missing_values  percentage_missing\n",
       "LotFrontage              259               17.74\n",
       "Alley                   1369               93.77\n",
       "MasVnrType               872               59.73\n",
       "MasVnrArea                 8                0.55\n",
       "BsmtQual                  37                2.53\n",
       "BsmtCond                  37                2.53\n",
       "BsmtExposure              38                2.60\n",
       "BsmtFinType1              37                2.53\n",
       "BsmtFinType2              38                2.60\n",
       "Electrical                 1                0.07\n",
       "FireplaceQu              690               47.26\n",
       "GarageType                81                5.55\n",
       "GarageYrBlt               81                5.55\n",
       "GarageFinish              81                5.55\n",
       "GarageQual                81                5.55\n",
       "GarageCond                81                5.55\n",
       "PoolQC                  1453               99.52\n",
       "Fence                   1179               80.75\n",
       "MiscFeature             1406               96.30"
      ]
     },
     "execution_count": 13,
     "metadata": {},
     "output_type": "execute_result"
    }
   ],
   "source": [
    "null_counts = raw_df.isnull().sum()\n",
    "columns_with_nulls = pd.DataFrame(null_counts[null_counts != 0], columns=['missing_values'])\n",
    "columns_with_nulls['percentage_missing'] = round(columns_with_nulls['missing_values'] / len(raw_df) * 100, 2)\n",
    "columns_with_nulls"
   ]
  },
  {
   "cell_type": "markdown",
   "metadata": {},
   "source": [
    "There are some features that present a large amount of null values, we should study them carefully. Futhermore, Garage features present the same abount of missing values so it is probably that are related"
   ]
  },
  {
   "cell_type": "code",
   "execution_count": 19,
   "metadata": {},
   "outputs": [
    {
     "name": "stdout",
     "output_type": "stream",
     "text": [
      "Unique values for the categorical feature Alley:\n",
      "[nan 'Grvl' 'Pave']\n",
      "Unique values for the categorical feature MasVnrType:\n",
      "['BrkFace' nan 'Stone' 'BrkCmn']\n",
      "Unique values for the categorical feature BsmtQual:\n",
      "['Gd' 'TA' 'Ex' nan 'Fa']\n",
      "Unique values for the categorical feature BsmtCond:\n",
      "['TA' 'Gd' nan 'Fa' 'Po']\n",
      "Unique values for the categorical feature BsmtExposure:\n",
      "['No' 'Gd' 'Mn' 'Av' nan]\n",
      "Unique values for the categorical feature BsmtFinType1:\n",
      "['GLQ' 'ALQ' 'Unf' 'Rec' 'BLQ' nan 'LwQ']\n",
      "Unique values for the categorical feature BsmtFinType2:\n",
      "['Unf' 'BLQ' nan 'ALQ' 'Rec' 'LwQ' 'GLQ']\n",
      "Unique values for the categorical feature Electrical:\n",
      "['SBrkr' 'FuseF' 'FuseA' 'FuseP' 'Mix' nan]\n",
      "Unique values for the categorical feature FireplaceQu:\n",
      "[nan 'TA' 'Gd' 'Fa' 'Ex' 'Po']\n",
      "Unique values for the categorical feature GarageType:\n",
      "['Attchd' 'Detchd' 'BuiltIn' 'CarPort' nan 'Basment' '2Types']\n",
      "Unique values for the categorical feature GarageFinish:\n",
      "['RFn' 'Unf' 'Fin' nan]\n",
      "Unique values for the categorical feature GarageQual:\n",
      "['TA' 'Fa' 'Gd' nan 'Ex' 'Po']\n",
      "Unique values for the categorical feature GarageCond:\n",
      "['TA' 'Fa' nan 'Gd' 'Po' 'Ex']\n",
      "Unique values for the categorical feature PoolQC:\n",
      "[nan 'Ex' 'Fa' 'Gd']\n",
      "Unique values for the categorical feature Fence:\n",
      "[nan 'MnPrv' 'GdWo' 'GdPrv' 'MnWw']\n",
      "Unique values for the categorical feature MiscFeature:\n",
      "[nan 'Shed' 'Gar2' 'Othr' 'TenC']\n"
     ]
    }
   ],
   "source": [
    "for col in columns_with_nulls.index:\n",
    "    if clean_df[col].dtype == 'object':\n",
    "        print(f'Unique values for the categorical feature {col}:\\n{clean_df[col].unique()}')"
   ]
  },
  {
   "cell_type": "markdown",
   "metadata": {},
   "source": [
    "It is recommended to spend some time reading the **data_description.txt**. There is valueble content there. Some of the features are displayed like numerical as a simplification but they are meant to be categorical. At the same time, some of the NaN values, could actually have a meaning after it.\n",
    "\n",
    "This is the case of **Alley** or **Garage**. NaN values there mean that the property doesn't have an alley/garage, so we have to impute it."
   ]
  },
  {
   "cell_type": "code",
   "execution_count": null,
   "metadata": {},
   "outputs": [],
   "source": [
    "# imputing_values = {'Alley': 'NoAlley',\n",
    "#                    'GarageType': 'NoGarage',\n",
    "#                    'GarageYrBlt': 'NoGarage',\n",
    "#                    'GarageFinish': 'NoGarage',\n",
    "#                    'GarageQual': 'NoGarage',\n",
    "#                    'GarageCond': 'NoGarage',\n",
    "#                    'MasVnrType': 'None',\n",
    "#                    'BsmtQual': 'NoBsmt',\n",
    "#                    'BsmtCond': 'NoBsmt',\n",
    "#                    'BsmtExposure': 'NoBsmt',\n",
    "#                    'BsmtFinType1': 'NoBsmt',\n",
    "#                    'BsmtFinType2': 'NoBsmt',\n",
    "#                    'FireplaceQu': 'NoFireplace',\n",
    "#                    'PoolQC': 'NoPool',\n",
    "#                    'Fence': 'NoFence',\n",
    "#                    'MiscFeature': 'None'}\n",
    "\n",
    "\n",
    "imputing_values = {'Alley': 'None',\n",
    "                   'GarageType': 'None',\n",
    "                   'GarageYrBlt': 'None',\n",
    "                   'GarageFinish': 'None',\n",
    "                   'GarageQual': 'None',\n",
    "                   'GarageCond': 'None',\n",
    "                   'MasVnrType': 'None',\n",
    "                   'BsmtQual': 'None',\n",
    "                   'BsmtCond': 'None',\n",
    "                   'BsmtExposure': 'None',\n",
    "                   'BsmtFinType1': 'None',\n",
    "                   'BsmtFinType2': 'None',\n",
    "                   'FireplaceQu': 'None',\n",
    "                   'PoolQC': 'None',\n",
    "                   'Fence': 'None',\n",
    "                   'MiscFeature': 'None'}\n",
    "\n",
    "\n",
    "clean_df['Alley'] = clean_df['Alley'].fillna('NoAlley')\n",
    "clean_df['Alley'] = clean_df['Alley'].fillna('NoAlley')"
   ]
  },
  {
   "cell_type": "code",
   "execution_count": null,
   "metadata": {},
   "outputs": [],
   "source": []
  },
  {
   "cell_type": "markdown",
   "metadata": {},
   "source": [
    "## Outliers"
   ]
  },
  {
   "cell_type": "markdown",
   "metadata": {},
   "source": [
    "## Scaling"
   ]
  },
  {
   "cell_type": "markdown",
   "metadata": {},
   "source": [
    "## Balancing"
   ]
  },
  {
   "cell_type": "markdown",
   "metadata": {},
   "source": [
    "## Feature Correlation"
   ]
  },
  {
   "cell_type": "markdown",
   "metadata": {},
   "source": [
    "## Feature Engineering"
   ]
  },
  {
   "cell_type": "markdown",
   "metadata": {},
   "source": [
    "### Encoding"
   ]
  },
  {
   "cell_type": "markdown",
   "metadata": {},
   "source": [
    "### Discretization"
   ]
  },
  {
   "cell_type": "markdown",
   "metadata": {},
   "source": [
    "### New Feature Creation"
   ]
  },
  {
   "cell_type": "markdown",
   "metadata": {},
   "source": [
    "### Bonus: Cycling Features (Time)"
   ]
  },
  {
   "cell_type": "markdown",
   "metadata": {},
   "source": [
    "## Feature Selection"
   ]
  },
  {
   "cell_type": "markdown",
   "metadata": {},
   "source": []
  }
 ],
 "metadata": {
  "kernelspec": {
   "display_name": "Python 3",
   "language": "python",
   "name": "python3"
  },
  "language_info": {
   "codemirror_mode": {
    "name": "ipython",
    "version": 3
   },
   "file_extension": ".py",
   "mimetype": "text/x-python",
   "name": "python",
   "nbconvert_exporter": "python",
   "pygments_lexer": "ipython3",
   "version": "3.13.2"
  }
 },
 "nbformat": 4,
 "nbformat_minor": 2
}
