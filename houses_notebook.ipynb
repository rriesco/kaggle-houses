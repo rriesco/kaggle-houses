{
 "cells": [
  {
   "cell_type": "markdown",
   "metadata": {
    "vscode": {
     "languageId": "plaintext"
    }
   },
   "source": [
    "# Basic Model"
   ]
  },
  {
   "cell_type": "code",
   "execution_count": 26,
   "metadata": {},
   "outputs": [],
   "source": [
    "import pandas as pd\n",
    "import numpy as np\n",
    "import matplotlib.pyplot as plt\n",
    "\n"
   ]
  },
  {
   "cell_type": "code",
   "execution_count": null,
   "metadata": {},
   "outputs": [],
   "source": [
    "def set_dotenv():\n",
    "    import os\n",
    "    from dotenv import load_dotenv  \n",
    "    \n",
    "    load_dotenv(dotenv_path='variables.env')  # This will load the variables from the .env file\n",
    "\n",
    "    # Retrieve your Kaggle credentials\n",
    "    kaggle_username = os.getenv(\"KAGGLE_USERNAME\")\n",
    "    kaggle_key = os.getenv(\"KAGGLE_KEY\")\n",
    "\n",
    "    # Optionally, set these values as environment variables for Kaggle's API library\n",
    "    os.environ[\"KAGGLE_USERNAME\"] = kaggle_username\n",
    "    os.environ[\"KAGGLE_KEY\"] = kaggle_key"
   ]
  },
  {
   "cell_type": "code",
   "execution_count": null,
   "metadata": {},
   "outputs": [],
   "source": []
  }
 ],
 "metadata": {
  "kernelspec": {
   "display_name": "github-env",
   "language": "python",
   "name": "python3"
  },
  "language_info": {
   "codemirror_mode": {
    "name": "ipython",
    "version": 3
   },
   "file_extension": ".py",
   "mimetype": "text/x-python",
   "name": "python",
   "nbconvert_exporter": "python",
   "pygments_lexer": "ipython3",
   "version": "3.12.7"
  }
 },
 "nbformat": 4,
 "nbformat_minor": 2
}
